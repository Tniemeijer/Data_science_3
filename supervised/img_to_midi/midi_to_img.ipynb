{
 "cells": [
  {
   "cell_type": "code",
   "execution_count": 1,
   "metadata": {},
   "outputs": [],
   "source": [
    "import os\n",
    "from midi2img import midi2image"
   ]
  },
  {
   "cell_type": "code",
   "execution_count": 2,
   "metadata": {},
   "outputs": [],
   "source": [
    "im_path = \"/Users/timniemeijer/DATA/lo-fi sounds\"\n",
    "out_path = \"/Users/timniemeijer/DATA/lo-fi-img\"\n",
    "midis = [midi for midi in os.listdir(path=im_path) if midi != \".DS_Store\"]\n",
    "\n",
    "for midi in midis:\n",
    "    midi_path = os.path.join(im_path,midi)\n",
    "    midi2image(midi_path=midi_path, output_path=out_path)\n"
   ]
  },
  {
   "cell_type": "code",
   "execution_count": null,
   "metadata": {},
   "outputs": [],
   "source": []
  }
 ],
 "metadata": {
  "kernelspec": {
   "display_name": "Python 3.10.8 ('testenvironment')",
   "language": "python",
   "name": "python3"
  },
  "language_info": {
   "codemirror_mode": {
    "name": "ipython",
    "version": 3
   },
   "file_extension": ".py",
   "mimetype": "text/x-python",
   "name": "python",
   "nbconvert_exporter": "python",
   "pygments_lexer": "ipython3",
   "version": "3.10.8"
  },
  "orig_nbformat": 4,
  "vscode": {
   "interpreter": {
    "hash": "15931b5d0b1f46c7898b0adb0bc6446bb142ec6dd65b84f2c23802f32d57ca25"
   }
  }
 },
 "nbformat": 4,
 "nbformat_minor": 2
}
