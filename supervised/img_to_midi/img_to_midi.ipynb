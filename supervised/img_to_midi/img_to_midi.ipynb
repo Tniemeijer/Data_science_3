{
 "cells": [
  {
   "cell_type": "code",
   "execution_count": 1,
   "metadata": {},
   "outputs": [
    {
     "name": "stderr",
     "output_type": "stream",
     "text": [
      "Exception in thread Thread-5:\n",
      "Traceback (most recent call last):\n",
      "  File \"/opt/miniconda3/envs/testenvironment/lib/python3.10/threading.py\", line 1016, in _bootstrap_inner\n",
      "    self.run()\n",
      "  File \"/opt/miniconda3/envs/testenvironment/lib/python3.10/threading.py\", line 1378, in run\n",
      "    self.function(*self.args, **self.kwargs)\n",
      "  File \"/opt/miniconda3/envs/testenvironment/lib/python3.10/site-packages/music21/ipython21/__init__.py\", line 44, in loadNoMagic\n",
      "    load_ipython_extension(localIP)\n",
      "  File \"/opt/miniconda3/envs/testenvironment/lib/python3.10/site-packages/music21/ipython21/ipExtension.py\", line 32, in load_ipython_extension\n",
      "    ip.run_line_magic('config', \"InlineBackend.figure_format = 'retina'\")\n",
      "  File \"/opt/miniconda3/envs/testenvironment/lib/python3.10/site-packages/IPython/core/interactiveshell.py\", line 2364, in run_line_magic\n",
      "    result = fn(*args, **kwargs)\n",
      "  File \"/opt/miniconda3/envs/testenvironment/lib/python3.10/site-packages/IPython/core/magics/config.py\", line 163, in config\n",
      "    configurables = sorted(set([ c for c in self.shell.configurables\n",
      "  File \"/opt/miniconda3/envs/testenvironment/lib/python3.10/site-packages/IPython/core/magics/config.py\", line 164, in <listcomp>\n",
      "    if c.__class__.class_traits(config=True)\n",
      "AttributeError: type object 'CommManager' has no attribute 'class_traits'\n"
     ]
    }
   ],
   "source": [
    "from img2midi import image2midi\n",
    "\n",
    "\n",
    "impath = \"/Users/timniemeijer/Data_science_3/supervised/im_test_1708.png\"\n",
    "\n",
    "image2midi(impath)"
   ]
  },
  {
   "cell_type": "code",
   "execution_count": null,
   "metadata": {},
   "outputs": [],
   "source": []
  }
 ],
 "metadata": {
  "kernelspec": {
   "display_name": "Python 3.10.8 ('testenvironment')",
   "language": "python",
   "name": "python3"
  },
  "language_info": {
   "codemirror_mode": {
    "name": "ipython",
    "version": 3
   },
   "file_extension": ".py",
   "mimetype": "text/x-python",
   "name": "python",
   "nbconvert_exporter": "python",
   "pygments_lexer": "ipython3",
   "version": "3.10.8"
  },
  "orig_nbformat": 4,
  "vscode": {
   "interpreter": {
    "hash": "15931b5d0b1f46c7898b0adb0bc6446bb142ec6dd65b84f2c23802f32d57ca25"
   }
  }
 },
 "nbformat": 4,
 "nbformat_minor": 2
}
