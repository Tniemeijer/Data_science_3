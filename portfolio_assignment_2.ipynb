{
 "cells": [
  {
   "attachments": {},
   "cell_type": "markdown",
   "metadata": {},
   "source": [
    "## Portfolio Assignment week 02\n",
    "\n",
    "This week's focus is on manifold learning and text clustering. As part of the portfolio assignment, you are required to make a contribution to either the manifold learning case or the text clustering case. There are several options for your contribution, so you can choose the one that aligns with your learning style or interests the most\n",
    "\n",
    "\n",
    "### Manifold learning\n",
    "\n",
    "Study the Tutorial tutorial_manifold_tSNE and the tutorial_manifold_spectral_clustering and the Study_Case_pipeline. Next improve the code by comparing the performance of k-means and spectral clustering. Also compare PCA and t-SNE in the visualization of the result. You can use the pipeline function of scikit-learn and hyperparameter tuning with GridSearchCV. Here's a possible approach:\n",
    "\n",
    "- Load the dataset to be used for the clustering analysis.\n",
    "- Preprocess the dataset as needed (e.g., scale the features, normalize the data, etc.).\n",
    "- Define a pipeline with preprocessing and clustering\n",
    "- use PCA and t-SNE for dimension reduction and visualize the dimensions, use the clusters to color the datapoints\n",
    "- use GridSearchCV to optimize the hyper parameters\n",
    "- Evaluate the performance of the models using a suitable metric\n",
    "- choose the best cluster method and the best visualization method combination\n",
    "\n",
    "Explain choises and evaluate outcome. You can do this assignment in pairs but if you do so mention each others name. Do not forget to reference. If you cannot figure out how to use GridSearchCV and or a pipeline, use your own solution\n"
   ]
  },
  {
   "cell_type": "code",
   "execution_count": null,
   "metadata": {},
   "outputs": [],
   "source": [
    "import pandas as pd\n",
    "import numpy as np\n",
    "import matplotlib.pyplot as plt\n",
    "import yaml\n",
    "plt.style.use(\"seaborn\")"
   ]
  },
  {
   "cell_type": "code",
   "execution_count": null,
   "metadata": {},
   "outputs": [],
   "source": [
    "# load the data\n",
    "with open('config.yaml', 'r') as conf:\n",
    "    config = yaml.load(conf, yaml.SafeLoader)\n",
    "\n",
    "data = pd.read_csv(config['tSNE_data'])"
   ]
  },
  {
   "cell_type": "code",
   "execution_count": null,
   "metadata": {},
   "outputs": [],
   "source": [
    "print(data.shape)\n",
    "data.head(10)"
   ]
  },
  {
   "cell_type": "code",
   "execution_count": null,
   "metadata": {},
   "outputs": [],
   "source": [
    "\n",
    "# check the sample types\n",
    "print(f'Unique types: {data.type.unique()}')\n",
    "# check missing values\n",
    "print(f'missing values: {data.isna().any().any()}')\n",
    "# descriptive stats\n",
    "hcc_df = data[data[\"type\"]==\"HCC\"]\n",
    "norm_df = data[data[\"type\"]==\"normal\"]\n",
    "\n",
    "hcc_skewedness = hcc_df.iloc[:,2:].skew()\n",
    "hcc_skewed = hcc_skewedness[(hcc_skewedness < -0.75)|(hcc_skewedness > 0.75)]\n",
    "\n",
    "norm_skewedness = norm_df.iloc[:,2:].skew()\n",
    "norm_skewed = norm_skewedness[(norm_skewedness < -0.75)|(norm_skewedness > 0.75)]\n",
    "\n",
    "\n",
    "print(f'The skewed percentage = {len(hcc_skewed)/hcc_df.shape[1]*100:0.03}%')\n",
    "print(f'The skewed percentage = {len(norm_skewed)/norm_df.shape[1]*100:0.03}%')"
   ]
  },
  {
   "attachments": {},
   "cell_type": "markdown",
   "metadata": {},
   "source": [
    "The amount of skewedness is quite high so PCA would not be a good option here.\n",
    "Let's first normalize and check if this assumption proves to be right. "
   ]
  },
  {
   "cell_type": "code",
   "execution_count": null,
   "metadata": {},
   "outputs": [],
   "source": [
    "#normalize\n",
    "from sklearn.preprocessing import StandardScaler\n",
    "sc = StandardScaler()\n",
    "sc_data = sc.fit_transform(data.iloc[:,2:])"
   ]
  },
  {
   "cell_type": "code",
   "execution_count": null,
   "metadata": {},
   "outputs": [],
   "source": [
    "# perform pca \n",
    "from sklearn.decomposition import PCA\n",
    "pca = PCA()\n",
    "pca.fit(sc_data)\n",
    "\n",
    "# scree plot of the first 100 principle components\n",
    "\n",
    "pc_values = pca.explained_variance_ratio_[:100]\n",
    "x_range = np.linspace(1,100,100)\n",
    "plt.scatter(x_range, pc_values*100)\n",
    "plt.xlabel(\"n_component\")\n",
    "plt.ylabel(\"explained variance (%)\")\n",
    "plt.title(\"scree plot: explained variance ratios\")\n",
    "plt.show()"
   ]
  },
  {
   "cell_type": "code",
   "execution_count": null,
   "metadata": {},
   "outputs": [],
   "source": [
    "import matplotlib.patches as mpatch\n",
    "PC1 = pca.fit_transform(sc_data)[:,0]\n",
    "PC2 = pca.fit_transform(sc_data)[:,1]\n",
    "\n",
    "colors = data[\"type\"]\n",
    "color_dict = {'HCC':'r', 'normal':'c'}\n",
    "\n",
    "fig, ax = plt.subplots()\n",
    "for p1,p2,color in zip(PC1,PC2,colors):\n",
    "    ax.scatter(p1,p2,c=color_dict[color], alpha=0.5)\n",
    "\n",
    "cyan_patch = mpatch.Patch(color='c', label='normal')\n",
    "red_patch = mpatch.Patch(color='r', label='HCC')\n",
    "\n",
    "ax.legend(handles=[cyan_patch,red_patch])\n",
    "ax.set_xlabel(\"PC1\")\n",
    "ax.set_ylabel(\"PC2\")\n",
    "ax.set_title(\"PCA\")\n",
    "plt.show()"
   ]
  },
  {
   "cell_type": "code",
   "execution_count": null,
   "metadata": {},
   "outputs": [],
   "source": [
    "from sklearn.manifold import TSNE\n",
    "\n",
    "#initiate instance\n",
    "tsne = TSNE(n_components=2, learning_rate='auto',\n",
    "                   init='random', random_state = 42)\n",
    "#fit \n",
    "TS1 = tsne.fit_transform(sc_data)[:,0]\n",
    "TS2 = tsne.fit_transform(sc_data)[:,1]\n",
    "\n",
    "fig, ax = plt.subplots()\n",
    "for t1,t2,color in zip(TS1,TS2,colors):\n",
    "    ax.scatter(t1,t2,c=color_dict[color], alpha=0.5)\n",
    "\n",
    "cyan_patch = mpatch.Patch(color='c', label='normal')\n",
    "red_patch = mpatch.Patch(color='r', label='HCC')\n",
    "\n",
    "ax.legend(handles=[cyan_patch,red_patch])\n",
    "ax.set_xlabel(\"comp_1\")\n",
    "ax.set_ylabel(\"comp_2\")\n",
    "ax.set_title(\"tSNE\")\n",
    "plt.show()\n"
   ]
  },
  {
   "cell_type": "code",
   "execution_count": null,
   "metadata": {},
   "outputs": [],
   "source": []
  }
 ],
 "metadata": {
  "kernelspec": {
   "display_name": "Python 3",
   "language": "python",
   "name": "python3"
  },
  "language_info": {
   "codemirror_mode": {
    "name": "ipython",
    "version": 3
   },
   "file_extension": ".py",
   "mimetype": "text/x-python",
   "name": "python",
   "nbconvert_exporter": "python",
   "pygments_lexer": "ipython3",
   "version": "3.10.8"
  },
  "orig_nbformat": 4
 },
 "nbformat": 4,
 "nbformat_minor": 2
}
